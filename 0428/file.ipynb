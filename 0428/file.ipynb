{
 "cells": [
  {
   "metadata": {
    "ExecuteTime": {
     "end_time": "2025-04-28T16:04:28.723126Z",
     "start_time": "2025-04-28T16:04:28.716003Z"
    }
   },
   "cell_type": "code",
   "source": [
    "%reload_ext sql\n",
    "%sql sqlite:///cars2.db"
   ],
   "id": "7d0417579cc3b84b",
   "outputs": [],
   "execution_count": 36
  },
  {
   "metadata": {},
   "cell_type": "code",
   "outputs": [],
   "execution_count": null,
   "source": [
    "%%sql\n",
    "CREATE TABLE IF NOT EXISTS cars (\n",
    "    id INTEGER PRIMARY KEY AUTOINCREMENT,\n",
    "    make TEXT,\n",
    "    model TEXT,\n",
    "    year INTEGER,\n",
    "    price REAL,\n",
    "    color TEXT\n",
    ");"
   ],
   "id": "445a6296749e7a83"
  },
  {
   "metadata": {},
   "cell_type": "code",
   "outputs": [],
   "execution_count": null,
   "source": [
    "%%sql\n",
    "INSERT INTO cars (make, model, year, price, color) VALUES\n",
    "('Audi', 'A4', 1995, 25000, 'Red'),\n",
    "('Ford', 'Focus', 2000, 18000, 'Blue'),\n",
    "('Toyota', 'Corolla', 1991, 21000, 'White'),\n",
    "('BMW', 'X5', 2001, 55000, 'Black'),\n",
    "('Ford', 'Mustang', 2021, 40000, 'Yellow'),\n",
    "('Tesla', 'Model 3', 2022, 45000, NULL);"
   ],
   "id": "dd8378a136004351"
  },
  {
   "metadata": {},
   "cell_type": "code",
   "outputs": [],
   "execution_count": null,
   "source": "",
   "id": "4a282b0f8973a647"
  }
 ],
 "metadata": {},
 "nbformat": 4,
 "nbformat_minor": 5
}
